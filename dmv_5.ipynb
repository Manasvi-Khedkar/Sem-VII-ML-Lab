{
 "cells": [
  {
   "cell_type": "markdown",
   "id": "a6b6d3f3-6720-4c00-baca-c2f572a874c4",
   "metadata": {},
   "source": [
    "## Data Aggregation\r\n",
    "Problem Statement: Analyzing Sales Performance by Region in a Retail Company\r\n",
    "Dataset: \"Retail_Sales_Data.csv\"\r\n",
    "Description: The dataset contains information about sales transactions in a retail company. It \r\n",
    "includes attributes such as transaction date, product category, quantity sold, and sales \r\n",
    "amount. The goal is to perform data aggregation to analyze the sales performance by region \r\n",
    "and identify the top-performing regions.\r\n",
    "Tasks to Perform:\r\n",
    "1. Import the \"Retail_Sales_Data.csv\" dataset.\r\n",
    "2. Explore the dataset to understand its structure and content.\r\n",
    "3. Identify the relevant variables for aggregating sales data, such as region, sales \r\n",
    "amount, and product category.\r\n",
    "4. Group the sales data by region and calculate the total sales amount for each region.\r\n",
    "5. Create bar plots or pie charts to visualize the sales distribution by region.\r\n",
    "6. Identify the top-performing regions based on the highest sales amount.\r\n",
    "7. Group the sales data by region and product category to calculate the total sales \r\n",
    "amount for each combination.\r\n",
    "8. Create stacked bar plots or grouped bar plots to compare the sales amounts across \r\n",
    "different regions and product categories.\r"
   ]
  },
  {
   "cell_type": "code",
   "execution_count": null,
   "id": "beac8973-3f6a-4ba0-b3ec-f932bee996f4",
   "metadata": {},
   "outputs": [],
   "source": [
    "import pandas as pd\n",
    "import numpy as np"
   ]
  },
  {
   "cell_type": "code",
   "execution_count": null,
   "id": "9a57dbae-e1df-428f-8c89-113202e29b69",
   "metadata": {},
   "outputs": [],
   "source": [
    "df = pd.read_csv(\"customer_shopping_data - customer_shopping_data.csv\")\n",
    "df.head()"
   ]
  },
  {
   "cell_type": "code",
   "execution_count": null,
   "id": "8c730842-5579-473f-9074-ec45c7ad40cb",
   "metadata": {},
   "outputs": [],
   "source": [
    "# Check the columns and data types in the dataset\n",
    "df.info()\n"
   ]
  },
  {
   "cell_type": "code",
   "execution_count": null,
   "id": "979d9204-cd68-497f-9077-73f1509ee86f",
   "metadata": {},
   "outputs": [],
   "source": [
    "df. columns"
   ]
  },
  {
   "cell_type": "code",
   "execution_count": null,
   "id": "bf7ab2aa-49ac-4ca9-80a0-c3cea32b52ac",
   "metadata": {},
   "outputs": [],
   "source": [
    "# Group the data by 'region' and calculate the total sales amount for each region\n",
    "# Calculate total sales amount per invoice\n",
    "df['total_sales_amount'] = df['quantity'] * df['price']\n",
    "\n",
    "region_sales = df.groupby('shopping_mall')['total_sales_amount'].sum().reset_index()\n",
    "region_sales\n"
   ]
  },
  {
   "cell_type": "code",
   "execution_count": null,
   "id": "553e384d-5745-491a-83f1-a57d36332cd0",
   "metadata": {},
   "outputs": [],
   "source": [
    "import matplotlib.pyplot as plt\n",
    "import seaborn as sns\n",
    "# Bar plot for sales distribution by region\n",
    "plt.figure(figsize=(10, 6))\n",
    "plt.bar(region_sales['shopping_mall'], region_sales['total_sales_amount'], color=['skyblue','lightgreen','coral'])\n",
    "plt.xlabel('shopping_mall')\n",
    "plt.ylabel('total_sale_ampunt')\n",
    "plt.title('Total sales amount by region')\n",
    "plt.xticks(rotation=45)\n",
    "plt.show()\n"
   ]
  },
  {
   "cell_type": "code",
   "execution_count": null,
   "id": "b30b2853-997f-473c-a5d0-ac746434c7a6",
   "metadata": {},
   "outputs": [],
   "source": [
    "# Pie chart for sales distribution by region\n",
    "# Plotting the pie chart\n",
    "plt.figure(figsize=(8, 8))\n",
    "plt.pie(region_sales['total_sales_amount'], labels=region_sales['shopping_mall'], autopct='%1.1f%%', startangle=140, colors=['skyblue', 'lightgreen', 'coral'])\n",
    "plt.title('Sales Distribution by Region')\n",
    "plt.show()"
   ]
  },
  {
   "cell_type": "code",
   "execution_count": null,
   "id": "2dc60ade-1313-4a22-a6da-f670984f34c7",
   "metadata": {},
   "outputs": [],
   "source": [
    "# Display the top-performing regions\n",
    "# top_regions = region_sales.head()\n",
    "# top_regions\n"
   ]
  },
  {
   "cell_type": "code",
   "execution_count": null,
   "id": "b001e790-3e90-458a-9393-bb86a5bc78e0",
   "metadata": {},
   "outputs": [],
   "source": [
    "# Group the data by 'region' and 'product_category' to calculate total sales amount\n",
    "region_category_sales = df.groupby(['shopping_mall', 'category'])['total_sales_amount'].sum().unstack().fillna(0)\n",
    "region_category_sales\n"
   ]
  },
  {
   "cell_type": "code",
   "execution_count": null,
   "id": "5482f33b-1c49-4e1b-862d-4740aef098e3",
   "metadata": {},
   "outputs": [],
   "source": [
    "df = pd.DataFrame(df)\n",
    "df.head()"
   ]
  },
  {
   "cell_type": "code",
   "execution_count": null,
   "id": "b8088cfe-f7c1-465c-b302-e2416341a67e",
   "metadata": {},
   "outputs": [],
   "source": [
    "# Stacked bar plot for sales comparison by region and product category\n",
    "sns.barplot(x='shopping_mall', y='total_sales_amount', hue='category', data=df, palette='pastel')\n",
    "\n",
    "# Set plot labels and title\n",
    "plt.xlabel('Region')\n",
    "plt.ylabel('Total Sales Amount')\n",
    "plt.title('Total Sales Amount by Region and Product Category')\n",
    "plt.xticks(rotation=45)\n",
    "\n",
    "plt.show()"
   ]
  },
  {
   "cell_type": "code",
   "execution_count": null,
   "id": "abb0556b-d1aa-4a2f-98f6-0f56232a45da",
   "metadata": {},
   "outputs": [],
   "source": []
  },
  {
   "cell_type": "code",
   "execution_count": null,
   "id": "8f42e772-4b7d-4758-9751-772b7551702b",
   "metadata": {},
   "outputs": [],
   "source": []
  }
 ],
 "metadata": {
  "kernelspec": {
   "display_name": "Python 3 (ipykernel)",
   "language": "python",
   "name": "python3"
  },
  "language_info": {
   "codemirror_mode": {
    "name": "ipython",
    "version": 3
   },
   "file_extension": ".py",
   "mimetype": "text/x-python",
   "name": "python",
   "nbconvert_exporter": "python",
   "pygments_lexer": "ipython3",
   "version": "3.12.4"
  }
 },
 "nbformat": 4,
 "nbformat_minor": 5
}
